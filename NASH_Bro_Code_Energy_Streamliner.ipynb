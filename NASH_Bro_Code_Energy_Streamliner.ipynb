{
  "nbformat": 4,
  "nbformat_minor": 0,
  "metadata": {
    "colab": {
      "provenance": [],
      "authorship_tag": "ABX9TyN1ZGIz+5AXEs5UaYeKDR42",
      "include_colab_link": true
    },
    "kernelspec": {
      "name": "python3",
      "display_name": "Python 3"
    },
    "language_info": {
      "name": "python"
    }
  },
  "cells": [
    {
      "cell_type": "markdown",
      "metadata": {
        "id": "view-in-github",
        "colab_type": "text"
      },
      "source": [
        "<a href=\"https://colab.research.google.com/github/thedeveloper2104/NASH_2023_bro_code/blob/main/NASH_Bro_Code_Energy_Streamliner.ipynb\" target=\"_parent\"><img src=\"https://colab.research.google.com/assets/colab-badge.svg\" alt=\"Open In Colab\"/></a>"
      ]
    },
    {
      "cell_type": "code",
      "execution_count": null,
      "metadata": {
        "id": "boot70YB4Gnf"
      },
      "outputs": [],
      "source": [
        "from xgboost import XGBRegressor\n",
        "from sklearn.model_selection import train_test_split\n",
        "from sklearn.metrics import mean_squared_error\n",
        "# Load the dataset\n",
        "data = load_my_data()\n",
        "# Split the data into training and test sets\n",
        "X_train, X_test, y_train, y_test = train_test_split(data.features, data.target, test_size=0.2, random_state=42)\n",
        "# Initialize the XGBRegressor model with hyperparameters\n",
        "xgb = XGBRegressor(n_estimators=100, learning_rate=0.1, max_depth=3)\n",
        "# Fit the model to the training data\n",
        "xgb.fit(X_train, y_train)\n",
        "# Make predictions on the test set\n",
        "y_pred = xgb.predict(X_test)\n",
        "# Evaluate the model using the mean squared error metric\n",
        "mse = mean_squared_error(y_test, y_pred)\n",
        "print(\"Mean Squared Error:\", mse)"
      ]
    }
  ]
}